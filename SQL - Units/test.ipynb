{
 "cells": [
  {
   "cell_type": "code",
   "execution_count": null,
   "metadata": {
    "collapsed": true
   },
   "outputs": [],
   "source": [
    "def connect_to_db():\n",
    "    return mysql.connector.connect(\n",
    "        host=\"localhost\",\n",
    "        user=\"root\",\n",
    "        password=\"AmeSame420\",\n",
    "        database=\"mydb\"\n",
    "    )\n",
    "\n",
    "def insert_faction(cursor, name, description):\n",
    "    sql = \"INSERT INTO Faction (name, description) VALUES (%s, %s)\"\n",
    "    cursor.execute(sql, (name, description))\n",
    "\n",
    "def insert_unit(cursor, faction_id, name, description):\n",
    "    sql = \"INSERT INTO Unit (faction_id, name, description) VALUES (%s, %s, %s)\"\n",
    "    cursor.execute(sql, (faction_id, name, description))\n",
    "\n",
    "def get_faction_id(cursor, name):\n",
    "    sql = \"SELECT id FROM Faction WHERE name = %s\"\n",
    "    cursor.execute(sql, (name,))\n",
    "    result = cursor.fetchone()\n",
    "    return result[0] if result else None\n",
    "\n",
    "def parse_cat_file(filename):\n",
    "    tree = ET.parse(filename)\n",
    "    root = tree.getroot()\n",
    "    return root\n",
    "\n",
    "def ingest_data(root, cursor):\n",
    "    factions = {}\n",
    "\n",
    "    for faction in root.findall(\".//catalogueLinks/catalogueLink\"):\n",
    "        faction_name = faction.get('name')\n",
    "        faction_description = faction.get('id')  # Or any other attribute that fits as description\n",
    "        insert_faction(cursor, faction_name, faction_description)\n",
    "        factions[faction_name] = get_faction_id(cursor, faction_name)\n",
    "\n",
    "    for unit in root.findall(\".//sharedSelectionEntries/selectionEntry\"):\n",
    "        unit_name = unit.get('name')\n",
    "        unit_description = unit.get('id')  # Or any other attribute that fits as description\n",
    "        faction_name = None\n",
    "        for categoryLink in unit.findall(\".//categoryLinks/categoryLink\"):\n",
    "            if \"Faction\" in categoryLink.get('name'):\n",
    "                faction_name = categoryLink.get('name').split(\": \")[1]\n",
    "                break\n",
    "        if faction_name and faction_name in factions:\n",
    "            faction_id = factions[faction_name]\n",
    "            insert_unit(cursor, faction_id, unit_name, unit_description)\n",
    "\n",
    "def main():\n",
    "    db_connection = connect_to_db()\n",
    "    cursor = db_connection.cursor()\n",
    "\n",
    "    root = parse_cat_file('path_to_your_cat_file.cat')\n",
    "    ingest_data(root, cursor)\n",
    "\n",
    "    db_connection.commit()\n",
    "    cursor.close()\n",
    "    db_connection.close()\n"
   ]
  }
 ],
 "metadata": {
  "kernelspec": {
   "display_name": "Python 3",
   "language": "python",
   "name": "python3"
  },
  "language_info": {
   "codemirror_mode": {
    "name": "ipython",
    "version": 2
   },
   "file_extension": ".py",
   "mimetype": "text/x-python",
   "name": "python",
   "nbconvert_exporter": "python",
   "pygments_lexer": "ipython2",
   "version": "2.7.6"
  }
 },
 "nbformat": 4,
 "nbformat_minor": 0
}
