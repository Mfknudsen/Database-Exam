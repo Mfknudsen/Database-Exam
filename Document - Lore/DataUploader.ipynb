{
 "cells": [
  {
   "cell_type": "code",
   "execution_count": null,
   "metadata": {},
   "outputs": [],
   "source": [
    "from pymongo import MongoClient\n",
    "from openai import OpenAI\n",
    "import pandas as pd\n",
    "import os\n",
    "from dotenv import load_dotenv\n",
    "from pinecone import Pinecone\n",
    "import uuid"
   ]
  },
  {
   "cell_type": "code",
   "execution_count": null,
   "metadata": {},
   "outputs": [],
   "source": [
    "load_dotenv(\"../config.env\",verbose=True)\n",
    "pc = Pinecone()\n",
    "\n",
    "index_name = \"lore\"\n",
    "\n",
    "index = pc.Index(index_name)"
   ]
  },
  {
   "cell_type": "code",
   "execution_count": null,
   "metadata": {},
   "outputs": [],
   "source": [
    "def  get_embeddings(text):\n",
    "    key = os.environ['OPENAI_KEY']\n",
    "    client = OpenAI(api_key=key)\n",
    "    return client.embeddings.create(input = [text], model=\"text-embedding-3-small\").data[0].embedding"
   ]
  },
  {
   "cell_type": "code",
   "execution_count": null,
   "metadata": {},
   "outputs": [],
   "source": [
    "csv = pd.read_csv(\"data.csv\", sep=\">\")\n",
    "\n",
    "for i in range(0, len(csv)):\n",
    "    print(csv[\"title\"][i])\n",
    "    print(csv[\"url\"][i])\n",
    "    print(csv[\"chunk_id\"][i])\n",
    "    print(csv[\"text\"][i])\n",
    "    print(\"\")"
   ]
  },
  {
   "cell_type": "code",
   "execution_count": null,
   "metadata": {},
   "outputs": [],
   "source": [
    "def ingest_data_to_pinecone(dataframe, pinecone_index, batch_size=100):\n",
    "    vectors = []\n",
    "    for index, row in dataframe.iterrows():\n",
    "        title = row['title']\n",
    "        url = row['url']\n",
    "        text = row['text']\n",
    "        chunk_id = row['chunk_id']\n",
    "        embedding = get_embeddings(row['text'])\n",
    "        \n",
    "        metadata = {\n",
    "            'title': title,\n",
    "            'url': url,\n",
    "            'text': text,\n",
    "            'chunk_id': chunk_id\n",
    "        }\n",
    "        \n",
    "        vector = (\n",
    "            str(uuid.uuid4()),\n",
    "            embedding,\n",
    "            metadata\n",
    "        )\n",
    "        \n",
    "        vectors.append(vector)\n",
    "\n",
    "        if len(vectors) >= batch_size:\n",
    "            pinecone_index.upsert(vectors=vectors)\n",
    "            print(f\"Uploaded batch of {batch_size} vectors to Pinecone.\")\n",
    "            vectors = []\n",
    "    \n",
    "    if vectors:\n",
    "        pinecone_index.upsert(vectors=vectors)"
   ]
  },
  {
   "cell_type": "code",
   "execution_count": null,
   "metadata": {},
   "outputs": [],
   "source": [
    "vectorized_csv = pd.DataFrame(columns=[\"title\", \"url\", \"text\", \"chunk_id\", \"embedding\"])\n",
    "\n",
    "ingest_data_to_pinecone(csv, index)"
   ]
  }
 ],
 "metadata": {
  "kernelspec": {
   "display_name": "Python 3",
   "language": "python",
   "name": "python3"
  },
  "language_info": {
   "codemirror_mode": {
    "name": "ipython",
    "version": 3
   },
   "file_extension": ".py",
   "mimetype": "text/x-python",
   "name": "python",
   "nbconvert_exporter": "python",
   "pygments_lexer": "ipython3",
   "version": "3.12.2"
  }
 },
 "nbformat": 4,
 "nbformat_minor": 2
}
